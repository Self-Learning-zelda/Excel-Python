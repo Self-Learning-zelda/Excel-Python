{
 "cells": [
  {
   "cell_type": "code",
   "execution_count": 14,
   "metadata": {},
   "outputs": [
    {
     "name": "stdout",
     "output_type": "stream",
     "text": [
      "<class 'pandas.core.frame.DataFrame'>\n",
      "RangeIndex: 3744 entries, 0 to 3743\n",
      "Data columns (total 7 columns):\n",
      "商品ID    3478 non-null float64\n",
      "类别ID    3478 non-null float64\n",
      "门店编号    3478 non-null object\n",
      "单价      3478 non-null float64\n",
      "销量      3478 non-null float64\n",
      "成交时间    3478 non-null datetime64[ns]\n",
      "订单ID    3478 non-null object\n",
      "dtypes: datetime64[ns](1), float64(4), object(2)\n",
      "memory usage: 204.8+ KB\n"
     ]
    }
   ],
   "source": [
    "import pandas as pd\n",
    "from datetime import datetime\n",
    "data = pd.read_csv(r\"../Data/order-14.1.csv\", sep=\",\",encoding = \"utf-8-sig\",engine = \"python\",parse_dates=[\"成交时间\"])\n",
    "data.head()\n",
    "data.info()\n",
    "this_month = data[(data[\"成交时间\"]>= datetime(2018,2,1)) & (data[\"成交时间\"]<= datetime(2018,2,28))]\n",
    "last_month = data[(data[\"成交时间\"]>= datetime(2018,1,1)) & (data[\"成交时间\"]<= datetime(2018,1,31))]\n",
    "same_month = data[(data[\"成交时间\"]>= datetime(2017,2,1)) & (data[\"成交时间\"]<= datetime(2017,2,28))]\n",
    "\n",
    "def get_month_data(data):\n",
    "    sale = (data[\"单价\"]*data[\"销量\"]).sum()\n",
    "    traffic = data[\"订单ID\"].drop_duplicates().count()\n",
    "    s_t = sale/traffic\n",
    "    return (sale,traffic,s_t)\n",
    "sale_1,traffic_1,s_t_1 = get_month_data(this_month)\n",
    "sale_2,traffic_2,s_t_2 = get_month_data(last_month)\n",
    "sale_3,traffic_3,s_t_3 = get_month_data(same_month)\n",
    "\n",
    "report = pd.DataFrame([[sale_1,sale_2,sale_3],\n",
    "                       [traffic_1,traffic_2,traffic_3],\n",
    "                       [s_t_1,s_t_2,s_t_3]],\n",
    "                     columns = [\"本月累计\",\"上月同期\",\"去年同期\"],\n",
    "                     index =[\"销售额\",\"客流量\",\"客单价\"])\n",
    "report\n",
    "\n",
    "#添加同比和环比字段\n",
    "report[\"环比\"] = report[\"本月累计\"]/report[\"上月同期\"] -1\n",
    "report[\"同比\"] = report[\"本月累计\"]/report[\"去年同期\"] -1\n",
    "report.to_csv(r\"../Data/order.csv\",encoding = \"utf-8-sig\")"
   ]
  }
 ],
 "metadata": {
  "kernelspec": {
   "display_name": "Python 3",
   "language": "python",
   "name": "python3"
  },
  "language_info": {
   "codemirror_mode": {
    "name": "ipython",
    "version": 3
   },
   "file_extension": ".py",
   "mimetype": "text/x-python",
   "name": "python",
   "nbconvert_exporter": "python",
   "pygments_lexer": "ipython3",
   "version": "3.7.1"
  },
  "toc": {
   "base_numbering": 1,
   "nav_menu": {},
   "number_sections": true,
   "sideBar": true,
   "skip_h1_title": false,
   "title_cell": "Table of Contents",
   "title_sidebar": "Contents",
   "toc_cell": false,
   "toc_position": {},
   "toc_section_display": true,
   "toc_window_display": false
  }
 },
 "nbformat": 4,
 "nbformat_minor": 2
}
