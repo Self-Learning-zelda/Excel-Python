{
 "cells": [
  {
   "cell_type": "markdown",
   "metadata": {},
   "source": [
    "## 利用Python实现报表自动化"
   ]
  },
  {
   "cell_type": "code",
   "execution_count": 1,
   "metadata": {},
   "outputs": [
    {
     "name": "stdout",
     "output_type": "stream",
     "text": [
      "<class 'pandas.core.frame.DataFrame'>\n",
      "RangeIndex: 3744 entries, 0 to 3743\n",
      "Data columns (total 7 columns):\n",
      "商品ID    3478 non-null float64\n",
      "类别ID    3478 non-null float64\n",
      "门店编号    3478 non-null object\n",
      "单价      3478 non-null float64\n",
      "销量      3478 non-null float64\n",
      "成交时间    3478 non-null datetime64[ns]\n",
      "订单ID    3478 non-null object\n",
      "dtypes: datetime64[ns](1), float64(4), object(2)\n",
      "memory usage: 204.8+ KB\n"
     ]
    }
   ],
   "source": [
    "import pandas as pd\n",
    "from datetime import datetime\n",
    "data = pd.read_csv(r\"../Data/order-14.1.csv\", sep=\",\",engine = \"python\",encoding=\"gbk\",parse_dates=[\"成交时间\"])\n",
    "data.head()\n",
    "data.info()\n",
    "this_month = data[(data[\"成交时间\"]>= datetime(2018,2,1)) & (data[\"成交时间\"]<= datetime(2018,2,28))]\n",
    "last_month = data[(data[\"成交时间\"]>= datetime(2018,1,1)) & (data[\"成交时间\"]<= datetime(2018,1,31))]\n",
    "same_month = data[(data[\"成交时间\"]>= datetime(2017,2,1)) & (data[\"成交时间\"]<= datetime(2017,2,28))]\n",
    "\n",
    "def get_month_data(data):\n",
    "    sale = (data[\"单价\"]*data[\"销量\"]).sum()\n",
    "    traffic = data[\"订单ID\"].drop_duplicates().count()\n",
    "    s_t = sale/traffic\n",
    "    return (sale,traffic,s_t)\n",
    "sale_1,traffic_1,s_t_1 = get_month_data(this_month)\n",
    "sale_2,traffic_2,s_t_2 = get_month_data(last_month)\n",
    "sale_3,traffic_3,s_t_3 = get_month_data(same_month)\n",
    "\n",
    "report = pd.DataFrame([[sale_1,sale_2,sale_3],\n",
    "                       [traffic_1,traffic_2,traffic_3],\n",
    "                       [s_t_1,s_t_2,s_t_3]],\n",
    "                     columns = [\"本月累计\",\"上月同期\",\"去年同期\"],\n",
    "                     index =[\"销售额\",\"客流量\",\"客单价\"])\n",
    "report\n",
    "\n",
    "#添加同比和环比字段\n",
    "report[\"环比\"] = report[\"本月累计\"]/report[\"上月同期\"] -1\n",
    "report[\"同比\"] = report[\"本月累计\"]/report[\"去年同期\"] -1\n",
    "report\n",
    "report.to_csv(r\"../Data/order.csv\",encoding = \"utf-8-sig\")"
   ]
  },
  {
   "cell_type": "markdown",
   "metadata": {},
   "source": [
    "## 自动发送电子邮件"
   ]
  },
  {
   "cell_type": "code",
   "execution_count": 13,
   "metadata": {},
   "outputs": [
    {
     "name": "stderr",
     "output_type": "stream",
     "text": [
      "send: 'ehlo [172.30.48.1]\\r\\n'\n",
      "reply: b'250-smtp.qq.com\\r\\n'\n",
      "reply: b'250-PIPELINING\\r\\n'\n",
      "reply: b'250-SIZE 73400320\\r\\n'\n",
      "reply: b'250-STARTTLS\\r\\n'\n",
      "reply: b'250-AUTH LOGIN PLAIN\\r\\n'\n",
      "reply: b'250-AUTH=LOGIN\\r\\n'\n",
      "reply: b'250-MAILCOMPRESS\\r\\n'\n",
      "reply: b'250 8BITMIME\\r\\n'\n",
      "reply: retcode (250); Msg: b'smtp.qq.com\\nPIPELINING\\nSIZE 73400320\\nSTARTTLS\\nAUTH LOGIN PLAIN\\nAUTH=LOGIN\\nMAILCOMPRESS\\n8BITMIME'\n",
      "send: 'AUTH PLAIN ADg1ODU2NjY1MUBxcS5jb20AcHhjbndyYXVocWFlYmNqaA==\\r\\n'\n",
      "reply: b'235 Authentication successful\\r\\n'\n",
      "reply: retcode (235); Msg: b'Authentication successful'\n",
      "send: 'mail FROM:<858566651@qq.com> size=8627\\r\\n'\n",
      "reply: b'250 Ok\\r\\n'\n",
      "reply: retcode (250); Msg: b'Ok'\n",
      "send: 'rcpt TO:<858566651@qq.com>\\r\\n'\n",
      "reply: b'250 Ok\\r\\n'\n",
      "reply: retcode (250); Msg: b'Ok'\n",
      "send: 'rcpt TO:<77410764@qq.com>\\r\\n'\n",
      "reply: b'250 Ok\\r\\n'\n",
      "reply: retcode (250); Msg: b'Ok'\n",
      "send: 'data\\r\\n'\n",
      "reply: b'354 End data with <CR><LF>.<CR><LF>\\r\\n'\n",
      "reply: retcode (354); Msg: b'End data with <CR><LF>.<CR><LF>'\n",
      "data: (354, b'End data with <CR><LF>.<CR><LF>')\n",
      "send: b'Content-Type: multipart/mixed; boundary=\"===============3592808214035477677==\"\\r\\nMIME-Version: 1.0\\r\\nSubject: =?utf-8?b?6L+Z5piv5LiA5Lu95rWL6K+V6YKu5Lu2?=\\r\\nto: 858566651@qq.com\\r\\nCc: 77410764@qq.com\\r\\nfrom: =?utf-8?b?5Y+25p6r?=\\r\\n\\r\\n--===============3592808214035477677==\\r\\nContent-Type: text/plain; charset=\"utf-8\"\\r\\nMIME-Version: 1.0\\r\\nContent-Transfer-Encoding: base64\\r\\n\\r\\n5L2g5aW977yM6L+Z5piv5LiA5bCB5rWL6K+V6YKu5Lu2\\r\\n\\r\\n--===============3592808214035477677==\\r\\nContent-Type: application/octet-stream\\r\\nMIME-Version: 1.0\\r\\nContent-Transfer-Encoding: base64\\r\\nContent-Disposition: attachment; filename*=utf-8\\'\\'%E6%B5%8B%E8%AF%95%E6%96%87%E6%A1%A3.xlsx\\r\\n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\\r\\n\\r\\n--===============3592808214035477677==--\\r\\n.\\r\\n'\n"
     ]
    },
    {
     "name": "stderr",
     "output_type": "stream",
     "text": [
      "reply: b'250 Ok: queued as \\r\\n'\n",
      "reply: retcode (250); Msg: b'Ok: queued as'\n",
      "data: (250, b'Ok: queued as')\n",
      "send: 'quit\\r\\n'\n",
      "reply: b'221 Bye\\r\\n'\n",
      "reply: retcode (221); Msg: b'Bye'\n"
     ]
    },
    {
     "data": {
      "text/plain": [
       "(221, b'Bye')"
      ]
     },
     "execution_count": 13,
     "metadata": {},
     "output_type": "execute_result"
    }
   ],
   "source": [
    "from email.mime.multipart import MIMEMultipart\n",
    "import smtplib\n",
    "from email import encoders\n",
    "from email.header import Header\n",
    "from email.mime.text import MIMEText\n",
    "from email.utils import parseaddr,formataddr\n",
    "from email.mime.application import MIMEApplication\n",
    "\n",
    "#发件人邮箱\n",
    "asender = \"858566651@qq.com\"\n",
    "\n",
    "#收件人邮箱\n",
    "areceiver = \"858566651@qq.com\"\n",
    "\n",
    "#抄送人邮箱\n",
    "acc = \"77410764@qq.com\"\n",
    "\n",
    "#邮件主题\n",
    "asubject = \"这是一份测试邮件\"\n",
    "\n",
    "#发件人地址\n",
    "from_addr = \"858566651@qq.com\"\n",
    "\n",
    "#邮箱密码（授权码）\n",
    "password = \"\"\n",
    "\n",
    "#邮件设置\n",
    "msg = MIMEMultipart()\n",
    "msg[\"Subject\"] = asubject\n",
    "msg[\"to\"] = areceiver\n",
    "msg[\"Cc\"] = acc\n",
    "msg[\"from\"] =\"叶枫\"\n",
    "\n",
    "#邮件正文\n",
    "body = \"你好，这是一封测试邮件\"\n",
    "\n",
    "#添加邮件正文\n",
    "msg.attach(MIMEText(body,'plain','utf-8'))\n",
    "\n",
    "#添加附件\n",
    "#注意，这里的文件路径是分割线\n",
    "filename = \"测试文档.xlsx\"\n",
    "xlsxpart = MIMEApplication(open(r'C:/Users/Administrator/Excel-Python/Data/测试文档.xlsx','rb').read())\n",
    "xlsxpart.add_header('Content-Disposition', 'attachment',filename=filename) \n",
    "msg.attach(xlsxpart)\n",
    "\n",
    "\n",
    "#设置邮箱服务器地址及端口\n",
    "smtp_server= \"smtp.qq.com\"\n",
    "server = smtplib.SMTP(smtp_server,25)\n",
    "server.set_debuglevel(1)\n",
    "\n",
    "#登录邮箱\n",
    "server.login(from_addr,password)\n",
    "server.sendmail(from_addr,areceiver.split(\",\")+acc.split(\",\"),msg.as_string())\n",
    "\n",
    "#断开服务器连接\n",
    "server.quit()\n",
    "\n",
    "\n",
    "\n",
    "# file_mail = MIMEApplication(open(fileurl,'rb').read())  \n",
    "# file_mail.add_header('Content-Disposition', 'attachment',filename=filename.decode('utf-8').encode('gb2312'))  \n",
    "# msg.attach(file_mail)\n",
    "\n",
    "\n",
    "# part = MIMEBase('application', 'octet-stream') #'octet-stream': binary data \n",
    "# part.set_payload(open(file, 'rb').read())\n",
    "# encoders.encode_base64(part)\n",
    "# part.add_header('Content-Disposition', 'attachment; filename=\"%s\"' % os.path.basename(file)) \n",
    "# msg.attach(part)"
   ]
  },
  {
   "cell_type": "code",
   "execution_count": null,
   "metadata": {},
   "outputs": [],
   "source": []
  }
 ],
 "metadata": {
  "kernelspec": {
   "display_name": "Python 3",
   "language": "python",
   "name": "python3"
  },
  "language_info": {
   "codemirror_mode": {
    "name": "ipython",
    "version": 3
   },
   "file_extension": ".py",
   "mimetype": "text/x-python",
   "name": "python",
   "nbconvert_exporter": "python",
   "pygments_lexer": "ipython3",
   "version": "3.7.0"
  },
  "toc": {
   "base_numbering": 1,
   "nav_menu": {},
   "number_sections": true,
   "sideBar": true,
   "skip_h1_title": false,
   "title_cell": "Table of Contents",
   "title_sidebar": "Contents",
   "toc_cell": false,
   "toc_position": {},
   "toc_section_display": true,
   "toc_window_display": false
  }
 },
 "nbformat": 4,
 "nbformat_minor": 2
}
