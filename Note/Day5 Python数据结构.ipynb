{
 "cells": [
  {
   "cell_type": "markdown",
   "metadata": {},
   "source": [
    "# 数据结构——列表"
   ]
  },
  {
   "cell_type": "markdown",
   "metadata": {},
   "source": [
    "## 列表的概念\n",
    "- 列表(list)是用来储存一组有序数据元素的数据结构，元素之间用逗号隔开;\n",
    "- 元素包含在方括号内，元素可变;"
   ]
  },
  {
   "cell_type": "markdown",
   "metadata": {},
   "source": [
    "## 新建列表"
   ]
  },
  {
   "cell_type": "markdown",
   "metadata": {},
   "source": [
    "- **建立一个空列表**  \n",
    "单方括号没有任何元素时，列表就是一个空列表  \n",
    "null_list = [ ]\n",
    "- **建立一个int类型列表**  \n",
    "当方括号元素全位int类型时，这个列表就是int类型列表\n",
    "int_list = [1,2,3]\n",
    "- **建立一个str类型列表**  \n",
    "当方括号元素全是str类型时，这个列表就是int类型列表 \n",
    "str_list = [\"a\",\"b\",\"c\"]\n",
    "- **建立一个int+srt 类型列表**  \n",
    "当放括号的元素既有int类型，又有str类型时，这个列表就是int+str类型  \n",
    "int_str_list = [1,2,\"a\",\"b\"] "
   ]
  },
  {
   "cell_type": "markdown",
   "metadata": {},
   "source": [
    "## 列表的复制\n",
    "列表的复制和字符串类似，用\\*操作符"
   ]
  },
  {
   "cell_type": "code",
   "execution_count": 1,
   "metadata": {},
   "outputs": [
    {
     "data": {
      "text/plain": [
       "[1, 2, 3, 1, 2, 3]"
      ]
     },
     "execution_count": 1,
     "metadata": {},
     "output_type": "execute_result"
    }
   ],
   "source": [
    "int_list = [1,2,3]\n",
    "int_list*2"
   ]
  },
  {
   "cell_type": "code",
   "execution_count": 62,
   "metadata": {},
   "outputs": [
    {
     "data": {
      "text/plain": [
       "['a', 'b', 'c', 'a', 'b', 'c']"
      ]
     },
     "execution_count": 62,
     "metadata": {},
     "output_type": "execute_result"
    }
   ],
   "source": [
    "str_list = [\"a\",\"b\",\"c\"]\n",
    "str_list*2"
   ]
  },
  {
   "cell_type": "markdown",
   "metadata": {},
   "source": [
    "## 列表的合并\n",
    "- 利用+操作符\n",
    "- 用extend()函数"
   ]
  },
  {
   "cell_type": "code",
   "execution_count": 5,
   "metadata": {},
   "outputs": [
    {
     "data": {
      "text/plain": [
       "[1, 2, 3, 'a', 'b', 'c']"
      ]
     },
     "execution_count": 5,
     "metadata": {},
     "output_type": "execute_result"
    }
   ],
   "source": [
    "#利用+操作符\n",
    "int_list = [1,2,3]\n",
    "str_list = [\"a\",\"b\",\"c\"]\n",
    "int_list + str_list"
   ]
  },
  {
   "cell_type": "code",
   "execution_count": 10,
   "metadata": {},
   "outputs": [
    {
     "data": {
      "text/plain": [
       "[1, 2, 3, 'a', 'b', 'c']"
      ]
     },
     "execution_count": 10,
     "metadata": {},
     "output_type": "execute_result"
    }
   ],
   "source": [
    "#用extend()函数\n",
    "int_list = [1,2,3]\n",
    "str_list = [\"a\",\"b\",\"c\"]\n",
    "int_list.extend(str_list)\n",
    "int_list"
   ]
  },
  {
   "cell_type": "markdown",
   "metadata": {},
   "source": [
    "## 向列表中插入新元素\n",
    "- append()在列表末尾插入数据元素\n",
    "- insert()在列表指定位置插入元素"
   ]
  },
  {
   "cell_type": "code",
   "execution_count": 11,
   "metadata": {},
   "outputs": [
    {
     "data": {
      "text/plain": [
       "[1, 2, 3, 4]"
      ]
     },
     "execution_count": 11,
     "metadata": {},
     "output_type": "execute_result"
    }
   ],
   "source": [
    "#在末尾插入元素\n",
    "int_list = [1,2,3]\n",
    "int_list.append(4)\n",
    "int_list"
   ]
  },
  {
   "cell_type": "code",
   "execution_count": 17,
   "metadata": {},
   "outputs": [
    {
     "data": {
      "text/plain": [
       "[1, 2, 3, 4]"
      ]
     },
     "execution_count": 17,
     "metadata": {},
     "output_type": "execute_result"
    }
   ],
   "source": [
    "#指定位置插入元素\n",
    "int_list = [1,2,3]\n",
    "int_list.insert(3,4)#表示在第4位插入元素4，位置从1开始计算\n",
    "int_list"
   ]
  },
  {
   "cell_type": "markdown",
   "metadata": {},
   "source": [
    "## 获取列表值出现的次数\n",
    "利用count( )函数获取某个值在列表出现的次数"
   ]
  },
  {
   "cell_type": "code",
   "execution_count": 18,
   "metadata": {},
   "outputs": [
    {
     "data": {
      "text/plain": [
       "3"
      ]
     },
     "execution_count": 18,
     "metadata": {},
     "output_type": "execute_result"
    }
   ],
   "source": [
    "score_list = [\"一班\",\"二班\",\"三班\",\"二班\",\"一班\",\"一班\"]\n",
    "score_list.count(\"一班\")"
   ]
  },
  {
   "cell_type": "markdown",
   "metadata": {},
   "source": [
    "## 获取列表值出现的位置\n",
    "- 获取值的出现的位置，就是看该值位于列表中的哪里;\n",
    "- 用index()方法，位置从**0**开始"
   ]
  },
  {
   "cell_type": "code",
   "execution_count": 19,
   "metadata": {},
   "outputs": [
    {
     "data": {
      "text/plain": [
       "2"
      ]
     },
     "execution_count": 19,
     "metadata": {},
     "output_type": "execute_result"
    }
   ],
   "source": [
    "car_list =[\"保时捷\",\"法拉利\",\"兰博基尼\",\"宝马\",\"奔驰\",\"奥迪\"]\n",
    "car_list.index(\"兰博基尼\")"
   ]
  },
  {
   "cell_type": "markdown",
   "metadata": {},
   "source": [
    "## 获取列表中指定位置的值\n",
    "- 普通索引（获取某一特定位置的数）\n",
    "- 切片索引（获取某一位置区间的数）"
   ]
  },
  {
   "cell_type": "code",
   "execution_count": 20,
   "metadata": {},
   "outputs": [
    {
     "data": {
      "text/plain": [
       "'a'"
      ]
     },
     "execution_count": 20,
     "metadata": {},
     "output_type": "execute_result"
    }
   ],
   "source": [
    "#普通索引\n",
    "str_list = [\"a\",\"b\",\"c\",\"d\",\"e\",\"f\",\"g\"]\n",
    "str_list[0]"
   ]
  },
  {
   "cell_type": "code",
   "execution_count": 22,
   "metadata": {},
   "outputs": [
    {
     "data": {
      "text/plain": [
       "['b', 'c']"
      ]
     },
     "execution_count": 22,
     "metadata": {},
     "output_type": "execute_result"
    }
   ],
   "source": [
    "#切片索引\n",
    "#获取第2位到第4位的数，不包含第4位\n",
    "str_list[1:3]"
   ]
  },
  {
   "cell_type": "code",
   "execution_count": 24,
   "metadata": {},
   "outputs": [
    {
     "data": {
      "text/plain": [
       "['a', 'b', 'c']"
      ]
     },
     "execution_count": 24,
     "metadata": {},
     "output_type": "execute_result"
    }
   ],
   "source": [
    "#获取开始到第4位的数，不包含第4位\n",
    "str_list[:3]"
   ]
  },
  {
   "cell_type": "code",
   "execution_count": 26,
   "metadata": {},
   "outputs": [
    {
     "data": {
      "text/plain": [
       "['b', 'c', 'd', 'e', 'f', 'g']"
      ]
     },
     "execution_count": 26,
     "metadata": {},
     "output_type": "execute_result"
    }
   ],
   "source": [
    "#获取第2位到结束的数\n",
    "str_list[1:]"
   ]
  },
  {
   "cell_type": "code",
   "execution_count": 27,
   "metadata": {},
   "outputs": [
    {
     "data": {
      "text/plain": [
       "'g'"
      ]
     },
     "execution_count": 27,
     "metadata": {},
     "output_type": "execute_result"
    }
   ],
   "source": [
    "#获取最后一位数\n",
    "str_list[-1]"
   ]
  },
  {
   "cell_type": "markdown",
   "metadata": {},
   "source": [
    "## 删除列表元素\n",
    "- pop()函数是指定位置删除,返回**删除的值**\n",
    "- remove()函数是元素进行删除，**没有返回值**,但是会移除列表中的某个值的**第一个**匹配项"
   ]
  },
  {
   "cell_type": "code",
   "execution_count": 28,
   "metadata": {},
   "outputs": [
    {
     "data": {
      "text/plain": [
       "'b'"
      ]
     },
     "execution_count": 28,
     "metadata": {},
     "output_type": "execute_result"
    }
   ],
   "source": [
    "#根据位置删除指定元素的\n",
    "str_list = [\"a\",\"b\",\"c\",\"d\",\"e\",\"f\",\"g\"]\n",
    "str_list.pop(1)"
   ]
  },
  {
   "cell_type": "code",
   "execution_count": 39,
   "metadata": {},
   "outputs": [
    {
     "data": {
      "text/plain": [
       "['b', 'c', 'd', 'e', 'f', 'g']"
      ]
     },
     "execution_count": 39,
     "metadata": {},
     "output_type": "execute_result"
    }
   ],
   "source": [
    "#根据值删除元素\n",
    "str_list = [\"a\",\"b\",\"c\",\"d\",\"e\",\"f\",\"g\",\"a\"]\n",
    "str_list.remove(\"a\")\n"
   ]
  },
  {
   "cell_type": "code",
   "execution_count": 40,
   "metadata": {},
   "outputs": [
    {
     "data": {
      "text/plain": [
       "['b', 'c', 'd', 'e', 'f', 'g']"
      ]
     },
     "execution_count": 40,
     "metadata": {},
     "output_type": "execute_result"
    }
   ],
   "source": [
    "#删除列表中所有的\"a\"\n",
    "str_list = [\"a\",\"b\",\"c\",\"d\",\"e\",\"f\",\"g\",\"a\"]\n",
    "k = \"a\"\n",
    "while k in str_list:\n",
    "  str_list.remove(k)\n",
    "str_list"
   ]
  },
  {
   "cell_type": "markdown",
   "metadata": {},
   "source": [
    "## 对列表中的值进行排序\n",
    "用sort()函数进行排序，默认是升序排列,传入参数**reverse=True**可以降序"
   ]
  },
  {
   "cell_type": "code",
   "execution_count": 42,
   "metadata": {},
   "outputs": [
    {
     "data": {
      "text/plain": [
       "[1, 2, 4, 5, 6, 9]"
      ]
     },
     "execution_count": 42,
     "metadata": {},
     "output_type": "execute_result"
    }
   ],
   "source": [
    "#默认升序\n",
    "s = [1,5,2,9,4,6]\n",
    "s.sort()\n",
    "s"
   ]
  },
  {
   "cell_type": "code",
   "execution_count": 44,
   "metadata": {},
   "outputs": [
    {
     "data": {
      "text/plain": [
       "[9, 6, 5, 4, 2, 1]"
      ]
     },
     "execution_count": 44,
     "metadata": {},
     "output_type": "execute_result"
    }
   ],
   "source": [
    "#传参reverse=True降序\n",
    "s = [1,5,2,9,4,6]\n",
    "s.sort(reverse = True)\n",
    "s"
   ]
  },
  {
   "cell_type": "markdown",
   "metadata": {},
   "source": [
    "# 数据结构——字典"
   ]
  },
  {
   "cell_type": "markdown",
   "metadata": {},
   "source": [
    "## 字典的概念\n",
    "字典(dict)是一种键值对的结构\n",
    "- 键必须唯一\n",
    "- 键值对内部用冒号分隔\n",
    "- 各键值对用逗号分隔\n",
    "- 所有数据放在花括号中"
   ]
  },
  {
   "cell_type": "markdown",
   "metadata": {},
   "source": [
    "## 新建一个字典"
   ]
  },
  {
   "cell_type": "code",
   "execution_count": 48,
   "metadata": {},
   "outputs": [
    {
     "data": {
      "text/plain": [
       "{'张三': 15280001000, '李四': 13980001000}"
      ]
     },
     "execution_count": 48,
     "metadata": {},
     "output_type": "execute_result"
    }
   ],
   "source": [
    "#向空白字典插入值\n",
    "test_dict = {}\n",
    "test_dict[\"张三\"] = 15280001000\n",
    "test_dict[\"李四\"] = 13980001000\n",
    "test_dict"
   ]
  },
  {
   "cell_type": "code",
   "execution_count": 50,
   "metadata": {},
   "outputs": [
    {
     "data": {
      "text/plain": [
       "{'张三': 15280001000, '李四': 13980001000}"
      ]
     },
     "execution_count": 50,
     "metadata": {},
     "output_type": "execute_result"
    }
   ],
   "source": [
    "#直接将键值对传入字典中\n",
    "test_dict = {\"张三\": 15280001000, \"李四\": 13980001000}\n",
    "test_dict"
   ]
  },
  {
   "cell_type": "code",
   "execution_count": 51,
   "metadata": {},
   "outputs": [
    {
     "data": {
      "text/plain": [
       "{'张三': 1528000100, '李四': 13980001000}"
      ]
     },
     "execution_count": 51,
     "metadata": {},
     "output_type": "execute_result"
    }
   ],
   "source": [
    "# 将键值对以列表的形式存放在元组中，然后用dict进行转换\n",
    "contact = ([\"张三\",1528000100],[\"李四\",13980001000])\n",
    "test_dict = dict(contact)\n",
    "test_dict"
   ]
  },
  {
   "cell_type": "markdown",
   "metadata": {},
   "source": [
    "## 字典中keys(),values()和items()方法\n",
    "- keys()方法用来获取字典内所有的键\n",
    "- values()方法用来获取字典内所有的值\n",
    "- items()方法用来获得到一组组的键值对"
   ]
  },
  {
   "cell_type": "code",
   "execution_count": 56,
   "metadata": {},
   "outputs": [
    {
     "data": {
      "text/plain": [
       "dict_keys(['张三', '李四'])"
      ]
     },
     "execution_count": 56,
     "metadata": {},
     "output_type": "execute_result"
    }
   ],
   "source": [
    "test_dict = {\"张三\": 15280001000, \"李四\": 13980001000}\n",
    "test_dict.keys()"
   ]
  },
  {
   "cell_type": "code",
   "execution_count": 53,
   "metadata": {},
   "outputs": [
    {
     "data": {
      "text/plain": [
       "dict_values([15280001000, 13980001000])"
      ]
     },
     "execution_count": 53,
     "metadata": {},
     "output_type": "execute_result"
    }
   ],
   "source": [
    "test_dict.values()"
   ]
  },
  {
   "cell_type": "code",
   "execution_count": 54,
   "metadata": {},
   "outputs": [
    {
     "data": {
      "text/plain": [
       "dict_items([('张三', 15280001000), ('李四', 13980001000)])"
      ]
     },
     "execution_count": 54,
     "metadata": {},
     "output_type": "execute_result"
    }
   ],
   "source": [
    "test_dict.items()"
   ]
  },
  {
   "cell_type": "markdown",
   "metadata": {},
   "source": [
    "# 数据结构——元组"
   ]
  },
  {
   "cell_type": "markdown",
   "metadata": {},
   "source": [
    "## 元组的概念\n",
    "元组(tup)与类表类似\n",
    "- 元组的元素不能修改\n",
    "- 元祖用小括号，列表用中括号"
   ]
  },
  {
   "cell_type": "markdown",
   "metadata": {},
   "source": [
    "## 新建元组\n",
    "直接将一组元素用小括号括起来即可  \n",
    "tup = (1,2,3)"
   ]
  },
  {
   "cell_type": "markdown",
   "metadata": {},
   "source": [
    "## 获取元组的长度\n",
    "使用len()函数"
   ]
  },
  {
   "cell_type": "code",
   "execution_count": 60,
   "metadata": {},
   "outputs": [
    {
     "data": {
      "text/plain": [
       "3"
      ]
     },
     "execution_count": 60,
     "metadata": {},
     "output_type": "execute_result"
    }
   ],
   "source": [
    "tup = (1,2,3)\n",
    "len(tup)"
   ]
  },
  {
   "cell_type": "markdown",
   "metadata": {},
   "source": [
    "## 获取元组内的元素\n",
    "元组内元素的获取主要分为普通索引和切片索引与列表类似"
   ]
  },
  {
   "cell_type": "code",
   "execution_count": 66,
   "metadata": {},
   "outputs": [
    {
     "data": {
      "text/plain": [
       "3"
      ]
     },
     "execution_count": 66,
     "metadata": {},
     "output_type": "execute_result"
    }
   ],
   "source": [
    "#普通索引\n",
    "tup = (1,2,3)\n",
    "tup[2]"
   ]
  },
  {
   "cell_type": "code",
   "execution_count": 67,
   "metadata": {},
   "outputs": [
    {
     "data": {
      "text/plain": [
       "(1, 2)"
      ]
     },
     "execution_count": 67,
     "metadata": {},
     "output_type": "execute_result"
    }
   ],
   "source": [
    "#切片索引\n",
    "tup = (1,2,3)\n",
    "tup[:2]"
   ]
  },
  {
   "cell_type": "markdown",
   "metadata": {},
   "source": [
    "## 元组与列表相互转换\n",
    "- list()函数将元组转为列表\n",
    "- tuple()函数将列表转为元组"
   ]
  },
  {
   "cell_type": "code",
   "execution_count": 69,
   "metadata": {},
   "outputs": [
    {
     "data": {
      "text/plain": [
       "[1, 2, 3]"
      ]
     },
     "execution_count": 69,
     "metadata": {},
     "output_type": "execute_result"
    }
   ],
   "source": [
    "#将元组转为列表\n",
    "tup = (1,2,3)\n",
    "list(tup)"
   ]
  },
  {
   "cell_type": "code",
   "execution_count": 70,
   "metadata": {},
   "outputs": [
    {
     "data": {
      "text/plain": [
       "(1, 2, 3)"
      ]
     },
     "execution_count": 70,
     "metadata": {},
     "output_type": "execute_result"
    }
   ],
   "source": [
    "#将列表转为元组\n",
    "t_list = [1,2,3]\n",
    "tuple(t_list)"
   ]
  },
  {
   "cell_type": "markdown",
   "metadata": {},
   "source": [
    "## zip函数\n",
    "zip()函数用于将可迭代的对象（列表、元组）作为参数，将对象中对于的元素打包成一个个元组，然后返回这些元组组成的列表。常与for循环一起搭配使用。"
   ]
  },
  {
   "cell_type": "code",
   "execution_count": 74,
   "metadata": {},
   "outputs": [
    {
     "name": "stdout",
     "output_type": "stream",
     "text": [
      "(1, 'a')\n",
      "(2, 'b')\n",
      "(3, 'c')\n",
      "(4, 'd')\n"
     ]
    }
   ],
   "source": [
    "#可迭代对象是列表时：\n",
    "list_a = [1,2,3,4]\n",
    "list_b = [\"a\",\"b\",\"c\",\"d\"]\n",
    "for i in zip(list_a,list_b):\n",
    "    print(i)"
   ]
  },
  {
   "cell_type": "code",
   "execution_count": 73,
   "metadata": {},
   "outputs": [
    {
     "name": "stdout",
     "output_type": "stream",
     "text": [
      "(1, 'a')\n",
      "(2, 'b')\n",
      "(3, 'c')\n",
      "(4, 'd')\n"
     ]
    }
   ],
   "source": [
    "#可迭代对象是元组时：\n",
    "list_a = (1,2,3,4)\n",
    "list_b = (\"a\",\"b\",\"c\",\"d\")\n",
    "for i in zip(list_a,list_b):\n",
    "    print(i)"
   ]
  },
  {
   "cell_type": "markdown",
   "metadata": {},
   "source": [
    "# 作业\n",
    "**题目**  \n",
    "![avatar](http://www.xmaniu.com/Upload/image/20190306/1551885688305964.jpg)  \n",
    "**答案**  \n",
    "1.列表用中括号[],字典用花括号{},元组用小括号()  \n",
    "2.staf.append(\"余昊天\")其他同理，staf.inset(1,\"余昊天\")其他同理   \n",
    "3.[\"A\",\"B\",\"A\",\"C\",\"D\"].count(\"A\")  \n",
    "4.a[3:7]=[6,7,9,11],a[:5]=[3,4,5,6,7],a[4]=7,a[3:]=[6,7,9,11,13,15,17]  \n",
    "5.[1,2,5,6,6]  \n",
    "6.\"D\",[\"A\",\"B\",\"A\",\"C\",\"D\"].pop(4),[\"A\",\"B\",\"A\",\"C\",\"D\"].remove(\"D\")  \n",
    "7.第4位  \n",
    "8.[1,2,3,1,2,3,1,2,3]  \n",
    "9.score = {\"A\":1,\"B\"2:,\"C\":3}  \n",
    "10.{\"A\":1,\"B\":2,\"C\":3}  \n",
    "11.score.keys()  \n",
    "13.score[\"C\"]  \n",
    "14.list((1,3,4,6,8,2))   \n",
    "15.(1, 3, 4, 6, 8, 2)"
   ]
  }
 ],
 "metadata": {
  "kernelspec": {
   "display_name": "Python 3",
   "language": "python",
   "name": "python3"
  },
  "language_info": {
   "codemirror_mode": {
    "name": "ipython",
    "version": 3
   },
   "file_extension": ".py",
   "mimetype": "text/x-python",
   "name": "python",
   "nbconvert_exporter": "python",
   "pygments_lexer": "ipython3",
   "version": "3.7.0"
  },
  "toc": {
   "base_numbering": 1,
   "nav_menu": {},
   "number_sections": true,
   "sideBar": true,
   "skip_h1_title": false,
   "title_cell": "Day5 Python数据结构",
   "title_sidebar": "Day5 Python数据结构",
   "toc_cell": false,
   "toc_position": {
    "height": "calc(100% - 180px)",
    "left": "10px",
    "top": "150px",
    "width": "320px"
   },
   "toc_section_display": true,
   "toc_window_display": true
  }
 },
 "nbformat": 4,
 "nbformat_minor": 2
}
