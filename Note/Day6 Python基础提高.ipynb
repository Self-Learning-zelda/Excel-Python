{
 "cells": [
  {
   "cell_type": "markdown",
   "metadata": {},
   "source": [
    "# 运算符"
   ]
  },
  {
   "cell_type": "markdown",
   "metadata": {},
   "source": [
    "## 算术运算符  \n",
    "用于算术运算\n",
    "-  \\+ 两数相加\n",
    "-  \\- 两数做差\n",
    "-  \\* 两数相乘\n",
    "-  /  两数相除\n",
    "-  %  返回两数相除的余数\n",
    "-  ** 返回x的y次幂\n",
    "-  // 返回两处相除以后商的**整数**部分"
   ]
  },
  {
   "cell_type": "markdown",
   "metadata": {},
   "source": [
    "## 比较运算  \n",
    "主要用来比较，返回True或False\n",
    "- == 等于\n",
    "- != 不等于\n",
    "- <> 不等于\n",
    "- \\> 大于\n",
    "- \\< 小于\n",
    "- \\>= 大等于\n",
    "- \\<= 小等于"
   ]
  },
  {
   "cell_type": "markdown",
   "metadata": {},
   "source": [
    "## 逻辑运算\n",
    "- and 同时为真结果才为真\n",
    "- or 只要一边为真,结果就为真 \n",
    "- not 如果表达式为真,运算结果为False，反之为True"
   ]
  },
  {
   "cell_type": "markdown",
   "metadata": {},
   "source": [
    "## 循环语句"
   ]
  },
  {
   "cell_type": "markdown",
   "metadata": {},
   "source": [
    "### for循环  \n",
    "for循环用来遍历任何序列项目"
   ]
  },
  {
   "cell_type": "code",
   "execution_count": 1,
   "metadata": {},
   "outputs": [
    {
     "name": "stdout",
     "output_type": "stream",
     "text": [
      "我目前正在学习：Excel\n",
      "我目前正在学习：SQL\n",
      "我目前正在学习：Python\n",
      "我目前正在学习：统计学\n"
     ]
    }
   ],
   "source": [
    "subject = ['Excel','SQL','Python','统计学']\n",
    "for sub in subject:\n",
    "    print('我目前正在学习：{}'.format(sub))"
   ]
  },
  {
   "cell_type": "markdown",
   "metadata": {},
   "source": [
    "### while循环\n",
    "while循环用来循环执行某程序，，即当条件满足时，一直执行某程序，直到条件不满足时，终止程序；"
   ]
  },
  {
   "cell_type": "code",
   "execution_count": 2,
   "metadata": {},
   "outputs": [
    {
     "name": "stdout",
     "output_type": "stream",
     "text": [
      "我已经学习数据分析0周啦\n",
      "我已经学习数据分析1周啦\n",
      "我已经学习数据分析2周啦\n",
      "我已经学习数据分析3周啦\n",
      "我已经学习数据分析4周啦\n",
      "我已经学习数据分析5周啦\n",
      "我已经学习数据分析6周啦\n",
      "我已经学习数据分析7周啦\n",
      "我已经学习数据分析7周啦，我可以去找工作啦\n"
     ]
    }
   ],
   "source": [
    "week = 0 #从0开始学\n",
    "while week<= 7:\n",
    "    print(\"我已经学习数据分析{}周啦\".format(week))\n",
    "    week +=1\n",
    "print(\"我已经学习数据分析{}周啦，我可以去找工作啦\".format(week-1))    "
   ]
  },
  {
   "cell_type": "markdown",
   "metadata": {},
   "source": [
    "## 条件语句"
   ]
  },
  {
   "cell_type": "markdown",
   "metadata": {},
   "source": [
    "### if语句\n",
    "- if条件语句是先去判断某个条件是否满足，满足则执行判断后的语句\n",
    "- if条件后面的程序需要首行缩进"
   ]
  },
  {
   "cell_type": "code",
   "execution_count": 25,
   "metadata": {},
   "outputs": [
    {
     "name": "stdout",
     "output_type": "stream",
     "text": [
      "可以找到好工作了\n"
     ]
    }
   ],
   "source": [
    "is_study = 1\n",
    "if is_study == 1:\n",
    "    print(\"可以找到好工作了\")"
   ]
  },
  {
   "cell_type": "markdown",
   "metadata": {},
   "source": [
    "### else语句  \n",
    "else语句是if语句的补充，即if不满足时执行什么程序"
   ]
  },
  {
   "cell_type": "code",
   "execution_count": 5,
   "metadata": {},
   "outputs": [
    {
     "name": "stdout",
     "output_type": "stream",
     "text": [
      "可以找到好工作了\n"
     ]
    }
   ],
   "source": [
    "is_study = 1\n",
    "if is_study == 0:\n",
    "    print(\"很难找到好工作了\")\n",
    "else:\n",
    "    print(\"可以找到好工作了\")"
   ]
  },
  {
   "cell_type": "markdown",
   "metadata": {},
   "source": [
    "### elif语句\n",
    "用于多条件判断"
   ]
  },
  {
   "cell_type": "code",
   "execution_count": 9,
   "metadata": {},
   "outputs": [
    {
     "name": "stdout",
     "output_type": "stream",
     "text": [
      "请输入分数：30\n",
      "小于60分\n"
     ]
    }
   ],
   "source": [
    "score =int(input(\"请输入分数：\"))\n",
    "if score < 60:\n",
    "    print(\"小于60分\")\n",
    "elif score < 70:\n",
    "    print(\"60~70分\")\n",
    "elif score < 80:\n",
    "    print(\"70~80分\")\n",
    "else :\n",
    "    print(\"90~100分\")    "
   ]
  },
  {
   "cell_type": "markdown",
   "metadata": {},
   "source": [
    "## 函数  \n",
    "函数是在一个程序中被重复使用的一段程序"
   ]
  },
  {
   "cell_type": "markdown",
   "metadata": {},
   "source": [
    "### 普通函数  \n",
    "- 普通函数一般有函数名（必需）、参数、语句块（必需）、return、变量这几部分组成\n",
    "- 函数定于的语法：  \n",
    "def 函数名(参数):  \n",
    "    语句块"
   ]
  },
  {
   "cell_type": "code",
   "execution_count": 13,
   "metadata": {},
   "outputs": [
    {
     "data": {
      "text/plain": [
       "'我正在地铁上学Python'"
      ]
     },
     "execution_count": 13,
     "metadata": {},
     "output_type": "execute_result"
    }
   ],
   "source": [
    "#定义一个return函数\n",
    "def learn_python(location):\n",
    "    doing = (\"我正在{}上学Python\".format(location))#注意{}中间不能敲空格\n",
    "    return doing\n",
    "\n",
    "learn_python(\"地铁\")"
   ]
  },
  {
   "cell_type": "markdown",
   "metadata": {},
   "source": [
    "### 匿名函数  \n",
    "匿名函数就是没有名字的函数，省略了def定义函数的过程，lambda至于一个表达式，没有具体的函数体。使用方法如下：  \n",
    "lambda arg1,arg2,arg3,...:expression\n",
    "- arg1,arg2,arg3表示具体参数\n",
    "- expression 表示参数要执行的操作"
   ]
  },
  {
   "cell_type": "code",
   "execution_count": 14,
   "metadata": {},
   "outputs": [
    {
     "data": {
      "text/plain": [
       "3"
      ]
     },
     "execution_count": 14,
     "metadata": {},
     "output_type": "execute_result"
    }
   ],
   "source": [
    "f = lambda x,y:x+y\n",
    "f(1,2)"
   ]
  },
  {
   "cell_type": "markdown",
   "metadata": {},
   "source": [
    "## 高级特性"
   ]
  },
  {
   "cell_type": "markdown",
   "metadata": {},
   "source": [
    "### 列表生成式 ✩✩✩\n",
    "例：现有一个列表，需要对列表的每个值求平方，组成成一个新列表，对比两种方法"
   ]
  },
  {
   "cell_type": "code",
   "execution_count": 15,
   "metadata": {},
   "outputs": [
    {
     "data": {
      "text/plain": [
       "[1, 4, 9, 16, 25]"
      ]
     },
     "execution_count": 15,
     "metadata": {},
     "output_type": "execute_result"
    }
   ],
   "source": [
    "#普通方法实现\n",
    "num = [1,2,3,4,5]\n",
    "new = []\n",
    "for i in num:\n",
    "    new.append(i**2)\n",
    "new    "
   ]
  },
  {
   "cell_type": "code",
   "execution_count": 16,
   "metadata": {},
   "outputs": [
    {
     "data": {
      "text/plain": [
       "[1, 4, 9, 16, 25]"
      ]
     },
     "execution_count": 16,
     "metadata": {},
     "output_type": "execute_result"
    }
   ],
   "source": [
    "#列表生成式\n",
    "num = [1,2,3,4,5]\n",
    "[i**2 for i in num]"
   ]
  },
  {
   "cell_type": "markdown",
   "metadata": {},
   "source": [
    "现有两列表，，需要列表的值两两组合"
   ]
  },
  {
   "cell_type": "code",
   "execution_count": 17,
   "metadata": {},
   "outputs": [
    {
     "data": {
      "text/plain": [
       "['Aa', 'Ab', 'Ac', 'Ba', 'Bb', 'Bc', 'Ca', 'Cb', 'Cc']"
      ]
     },
     "execution_count": 17,
     "metadata": {},
     "output_type": "execute_result"
    }
   ],
   "source": [
    "#普通方法实现\n",
    "list1 = [\"A\",\"B\",\"C\"]\n",
    "list2 = [\"a\",\"b\",\"c\"]\n",
    "new =[]\n",
    "for m in list1:\n",
    "    for n in list2:\n",
    "        new.append(m+n)\n",
    "new        \n",
    "        "
   ]
  },
  {
   "cell_type": "code",
   "execution_count": 18,
   "metadata": {},
   "outputs": [
    {
     "data": {
      "text/plain": [
       "['Aa', 'Ab', 'Ac', 'Ba', 'Bb', 'Bc', 'Ca', 'Cb', 'Cc']"
      ]
     },
     "execution_count": 18,
     "metadata": {},
     "output_type": "execute_result"
    }
   ],
   "source": [
    "#列表生成式\n",
    "list1 = [\"A\",\"B\",\"C\"]\n",
    "list2 = [\"a\",\"b\",\"c\"]\n",
    "[m + n for m in list1 for n in list2]"
   ]
  },
  {
   "cell_type": "markdown",
   "metadata": {},
   "source": [
    "### map函数  \n",
    "- map函数的表现形式是map(function,agrs), 表示对序列 args 中的每个值进行function操作，最终得到一个结果序列\n",
    "- map函数生成的结果序列不会直接显示出来，想要获得结果需要for循环遍历取出，或者用list方法生成一个列表"
   ]
  },
  {
   "cell_type": "code",
   "execution_count": 24,
   "metadata": {},
   "outputs": [
    {
     "data": {
      "text/plain": [
       "<map at 0x23e0d3b75c0>"
      ]
     },
     "execution_count": 24,
     "metadata": {},
     "output_type": "execute_result"
    }
   ],
   "source": [
    "a = map(lambda x,y:x+y,[1,2,3],[3,2,1])\n",
    "a"
   ]
  },
  {
   "cell_type": "code",
   "execution_count": 22,
   "metadata": {},
   "outputs": [
    {
     "name": "stdout",
     "output_type": "stream",
     "text": [
      "4\n",
      "4\n",
      "4\n"
     ]
    }
   ],
   "source": [
    "for i in a:\n",
    "    print(i)"
   ]
  },
  {
   "cell_type": "code",
   "execution_count": 23,
   "metadata": {},
   "outputs": [
    {
     "data": {
      "text/plain": [
       "[4, 4, 4]"
      ]
     },
     "execution_count": 23,
     "metadata": {},
     "output_type": "execute_result"
    }
   ],
   "source": [
    "b = list(map(lambda x,y:x+y,[1,2,3],[3,2,1]))\n",
    "b"
   ]
  },
  {
   "cell_type": "markdown",
   "metadata": {},
   "source": [
    "## 模块  \n",
    "模块是升级版的函数，数据分析用的比较多的三个模块分别是NumPy 、Pandas、matplotlib"
   ]
  }
 ],
 "metadata": {
  "kernelspec": {
   "display_name": "Python 3",
   "language": "python",
   "name": "python3"
  },
  "language_info": {
   "codemirror_mode": {
    "name": "ipython",
    "version": 3
   },
   "file_extension": ".py",
   "mimetype": "text/x-python",
   "name": "python",
   "nbconvert_exporter": "python",
   "pygments_lexer": "ipython3",
   "version": "3.7.1"
  },
  "toc": {
   "base_numbering": 1,
   "nav_menu": {},
   "number_sections": true,
   "sideBar": true,
   "skip_h1_title": false,
   "title_cell": "Table of Contents",
   "title_sidebar": "Day6 Python基础提高",
   "toc_cell": false,
   "toc_position": {
    "height": "calc(100% - 180px)",
    "left": "10px",
    "top": "150px",
    "width": "320px"
   },
   "toc_section_display": true,
   "toc_window_display": true
  }
 },
 "nbformat": 4,
 "nbformat_minor": 2
}
