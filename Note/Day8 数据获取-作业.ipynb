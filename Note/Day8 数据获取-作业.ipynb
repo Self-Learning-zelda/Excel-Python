{
 "cells": [
  {
   "cell_type": "markdown",
   "metadata": {},
   "source": [
    "**作业:**"
   ]
  },
  {
   "cell_type": "markdown",
   "metadata": {},
   "source": [
    "**1.导入.xlsx格式的文件用到的方法是什么？**  \n",
    "read_excel()  \n",
    "**常见参数：**  \n",
    "io：文件的路径，避免路径被转义前面加一个r  \n",
    "sheet_name:设定那个Sheet表导入  \n",
    "index_col：指定行索引，默认从0开始  \n",
    "header：指定列索引参数，默认为0，即第一行作为列索引  \n",
    "usecols：指定导入列"
   ]
  },
  {
   "cell_type": "markdown",
   "metadata": {},
   "source": [
    "**2.导入.csv文件用到的方法是什么？**  \n",
    "read_csv()  \n",
    "**常见参数：**  \n",
    "sep：指明分隔符  \n",
    "nrows：参数指明读取行  \n",
    "engineing：指定文件编码格式  \n",
    "engine：如果文件路径含有中文需要设定  \n",
    "其他参数如read_excel()"
   ]
  },
  {
   "cell_type": "markdown",
   "metadata": {},
   "source": [
    "**3.导入.xlsx文件用来指明导入某个sheet的参数是什么？**  \n",
    "sheet_name"
   ]
  },
  {
   "cell_type": "markdown",
   "metadata": {},
   "source": [
    "**4.在导入文件是需要将\"用户编号\"这一列设置为行索引需要设置那个参数？**  \n",
    "header()"
   ]
  },
  {
   "cell_type": "markdown",
   "metadata": {},
   "source": [
    "**5.在导入文件时，只要导入整个表的某两列设置什么参数？导入.xlsx格式文件和导入.csv文件设置方法是相同？**  \n",
    "usecols,设置相同"
   ]
  },
  {
   "cell_type": "markdown",
   "metadata": {},
   "source": [
    "**6.csv文件一般有哪两种编码格式？用什么参数来设置？**  \n",
    "UTF-8和gbk，默认编码格式是UTF-8,用engineing参数设置"
   ]
  },
  {
   "cell_type": "markdown",
   "metadata": {},
   "source": [
    "**7.在导入csv文件时，当文件路径或者文件夹名中包含中文时，需要额外设置参数？**  \n",
    "engine"
   ]
  },
  {
   "cell_type": "markdown",
   "metadata": {},
   "source": [
    "**8.通过连接数据库直接获取数据需要用到什么方法？**  \n",
    " read_sql()"
   ]
  },
  {
   "cell_type": "markdown",
   "metadata": {},
   "source": [
    "**9.只想预览表的前3行，代码应该怎么写？**  \n",
    "import pandas as pd  \n",
    "df = pd.read_x(r\"文件路径\") #x为数据类型\n",
    "df.head(3)"
   ]
  },
  {
   "cell_type": "markdown",
   "metadata": {},
   "source": [
    "**10.查看df表有多少行和列，代码怎么写？**  \n",
    "import pandas as pd  \n",
    "df = pd.read_x(r\"文件路径\") #x为数据类型  \n",
    "df.shape  "
   ]
  },
  {
   "cell_type": "markdown",
   "metadata": {},
   "source": [
    "**11.要查看df表中每一列都是什么类型的数据，代码应该怎么写？**  \n",
    "import pandas as pd  \n",
    "df = pd.read_x(r\"文件路径\") #x为数据类型  \n",
    "df.info()"
   ]
  }
 ],
 "metadata": {
  "kernelspec": {
   "display_name": "Python 3",
   "language": "python",
   "name": "python3"
  },
  "language_info": {
   "codemirror_mode": {
    "name": "ipython",
    "version": 3
   },
   "file_extension": ".py",
   "mimetype": "text/x-python",
   "name": "python",
   "nbconvert_exporter": "python",
   "pygments_lexer": "ipython3",
   "version": "3.7.1"
  },
  "toc": {
   "base_numbering": 1,
   "nav_menu": {},
   "number_sections": true,
   "sideBar": true,
   "skip_h1_title": false,
   "title_cell": "Table of Contents",
   "title_sidebar": "Day8  数据获取-作业",
   "toc_cell": false,
   "toc_position": {},
   "toc_section_display": true,
   "toc_window_display": true
  }
 },
 "nbformat": 4,
 "nbformat_minor": 2
}
