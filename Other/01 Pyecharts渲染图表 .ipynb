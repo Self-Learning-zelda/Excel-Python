{
 "cells": [
  {
   "cell_type": "code",
   "execution_count": null,
   "metadata": {},
   "outputs": [],
   "source": [
    "pyecharts 库的基本使用用法"
   ]
  },
  {
   "cell_type": "markdown",
   "metadata": {},
   "source": [
    "## 安装  \n",
    "pip install pyecharts"
   ]
  },
  {
   "cell_type": "markdown",
   "metadata": {},
   "source": [
    "## Bar（柱状图/条形图）\n",
    ">柱状/条形图，通过柱形的高度/条形的宽度来表现数据的大小。  \n",
    "\n",
    "Bar.add() 方法签名  \n",
    "```python\n",
    "add(name, attr, value,\n",
    "    shape=\"circle\",\n",
    "    word_gap=20,\n",
    "    word_size_range=None,\n",
    "    rotate_step=45)\n",
    "```    \n",
    "- name -> str  \n",
    "图例名称\n",
    "- attr -> list  \n",
    "属性名称\n",
    "- value -> list  \n",
    "属性所对应的值\n",
    "- shape -> list  \n",
    "词云图轮廓，有'circle', 'cardioid', 'diamond', 'triangle-forward', 'triangle', 'pentagon', 'star'可选\n",
    "- word_gap -> int  \n",
    "单词间隔，默认为 20。\n",
    "- word_size_range -> list  \n",
    "单词字体大小范围，默认为 [12, 60]。\n",
    "- rotate_step -> int  \n",
    "旋转单词角度，默认为 45"
   ]
  },
  {
   "cell_type": "code",
   "execution_count": 1,
   "metadata": {},
   "outputs": [],
   "source": [
    "from pyecharts import Bar\n",
    "\n",
    "attr = [\"衬衫\", \"羊毛衫\", \"雪纺衫\", \"裤子\", \"高跟鞋\", \"袜子\"]\n",
    "v1 = [5, 20, 36, 10, 75, 90]\n",
    "v2 = [10, 25, 8, 60, 20, 80]\n",
    "bar = Bar(\"柱状图数据堆叠示例\")\n",
    "bar.add(\"商家A\", attr, v1, is_stack=True)\n",
    "bar.add(\"商家B\", attr, v2, is_stack=True)\n",
    "bar.render(\"./html/bar01.html\")"
   ]
  },
  {
   "cell_type": "code",
   "execution_count": 11,
   "metadata": {},
   "outputs": [],
   "source": [
    "from pyecharts import WordCloud\n",
    "import pandas as pd\n",
    "df = pd.read_excel(r\"./Pyecharts.xlsx\")\n",
    "#print(df.iloc[:,[0]])\n",
    "name = df.iloc[0:,[0]].T.values[0]\n",
    "value = df.iloc[0:,[4]].T.values[0]\n",
    "# name = [\n",
    "#         'Though','the answer','this question',\n",
    "#         'may at first','seem to border','on the',\n",
    "#         'absurd','reflection','will show','that there',\n",
    "#         'is a','good deal','more in','it than meets','the eye'\n",
    "#         ]\n",
    "#\n",
    "# value = [10000,6189,4556,2356,2233,\n",
    "#          1895,1456,1255,981,875,\n",
    "#          542,462,361,265,125]\n",
    "\n",
    "worldcloud = WordCloud(width = 1300,height = 620)\n",
    "worldcloud.add('测试',name,value,word_size_range = [20,100])\n",
    "worldcloud.render()"
   ]
  },
  {
   "cell_type": "code",
   "execution_count": 12,
   "metadata": {},
   "outputs": [],
   "source": [
    "import pyecharts\n",
    "from pyecharts import Bar\n",
    "\n",
    "bar = Bar(\"我的第一个图表\", \"这里是副标题\")\n",
    "bar.use_theme('dark')                                  #暗色背景色\n",
    "bar.add(\"服装\",                                        #注解==label\n",
    "        [\"衬衫\",\"羊毛衫\",\"雪纺衫\",\"裤子\",\"高跟鞋\",\"袜子\"], #横坐标\n",
    "        [5, 20, 36, 10, 75, 90])                       #纵坐标\n",
    "bar.render('./picture1.html')"
   ]
  }
 ],
 "metadata": {
  "kernelspec": {
   "display_name": "Python 3",
   "language": "python",
   "name": "python3"
  },
  "language_info": {
   "codemirror_mode": {
    "name": "ipython",
    "version": 3
   },
   "file_extension": ".py",
   "mimetype": "text/x-python",
   "name": "python",
   "nbconvert_exporter": "python",
   "pygments_lexer": "ipython3",
   "version": "3.7.0"
  },
  "toc": {
   "base_numbering": 1,
   "nav_menu": {},
   "number_sections": true,
   "sideBar": true,
   "skip_h1_title": false,
   "title_cell": "Table of Contents",
   "title_sidebar": "Contents",
   "toc_cell": false,
   "toc_position": {},
   "toc_section_display": true,
   "toc_window_display": false
  }
 },
 "nbformat": 4,
 "nbformat_minor": 2
}
